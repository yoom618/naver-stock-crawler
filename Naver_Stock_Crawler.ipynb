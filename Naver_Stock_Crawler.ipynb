{
 "cells": [
  {
   "cell_type": "markdown",
   "metadata": {},
   "source": [
    "# 0. Default Setting"
   ]
  },
  {
   "cell_type": "markdown",
   "metadata": {},
   "source": [
    "### reference : http://blog.quantylab.com/crawling_naverfin_daycandle.html\n",
    "#### solution for 404 not found :  https://stackoverflow.com/questions/42441211/python-urllib-error-httperror-http-error-404-not-found"
   ]
  },
  {
   "cell_type": "code",
   "execution_count": 1,
   "metadata": {},
   "outputs": [],
   "source": [
    "# !pip install bs4"
   ]
  },
  {
   "cell_type": "code",
   "execution_count": 2,
   "metadata": {},
   "outputs": [],
   "source": [
    "import datetime\n",
    "import traceback\n",
    "import pandas as pd\n",
    "import os\n",
    "\n",
    "from bs4 import BeautifulSoup\n",
    "from urllib.request import urlopen, Request"
   ]
  },
  {
   "cell_type": "code",
   "execution_count": 3,
   "metadata": {},
   "outputs": [
    {
     "name": "stdout",
     "output_type": "stream",
     "text": [
      "time 2020.06.10 - 2021.01.13\n"
     ]
    }
   ],
   "source": [
    "### hyper-params\n",
    "state = 'time' # 'day' or 'time'\n",
    "str_datefrom = datetime.datetime.strftime(datetime.datetime(year=2020, month=6, day=10), '%Y.%m.%d')\n",
    "str_dateto = datetime.datetime.strftime(datetime.datetime.today(), '%Y.%m.%d')\n",
    "print(state, str_datefrom,'-', str_dateto, )"
   ]
  },
  {
   "cell_type": "code",
   "execution_count": 4,
   "metadata": {},
   "outputs": [],
   "source": [
    "path_dir = './stock_data_new'\n",
    "if not os.path.exists(path_dir):\n",
    "    os.makedirs(path_dir)\n",
    "    \n",
    "main_url_index = 'https://finance.naver.com/sise/sise_index.nhn?code={code}'\n",
    "main_url_item = 'https://finance.naver.com/item/sise.nhn?code={code}'"
   ]
  },
  {
   "cell_type": "markdown",
   "metadata": {},
   "source": [
    "# 1. Functions"
   ]
  },
  {
   "cell_type": "markdown",
   "metadata": {},
   "source": [
    "## 1.1. Get html from url"
   ]
  },
  {
   "cell_type": "code",
   "execution_count": 5,
   "metadata": {},
   "outputs": [],
   "source": [
    "def get_html(url):\n",
    "    try:\n",
    "        req = Request(url, headers={'User-Agent': 'Mozilla/5.0'})    \n",
    "        html = urlopen(req)\n",
    "        return BeautifulSoup(html)\n",
    "    except Exception as e:\n",
    "        traceback.print_exc()\n",
    "    return None"
   ]
  },
  {
   "cell_type": "code",
   "execution_count": 6,
   "metadata": {
    "scrolled": true
   },
   "outputs": [
    {
     "data": {
      "text/plain": [
       "[<iframe frameborder=\"0\" height=\"0\" id=\"autoFrame\" marginheight=\"0\" marginwidth=\"0\" scrolling=\"no\" src=\"/ac/reatcmp.nhn?menu=sise&amp;submenu=\" style=\"display: none;\" title=\"자동완성\" width=\"400\"></iframe>,\n",
       " <iframe frameborder=\"0\" height=\"0\" id=\"me_layers\" name=\"test\" scrolling=\"no\" style=\"display:block;top: 22px; right: 209px; position: absolute; z-index: 15;\" title=\"네이버미 영역\" width=\"0\"></iframe>,\n",
       " <iframe bottommargin=\"0\" frameborder=\"0\" height=\"265\" marginheight=\"0\" name=\"time\" scrolling=\"no\" src=\"/sise/sise_index_time.nhn?code=KOSPI&amp;thistime=20210113163400\" title=\"시간별시세 영역\" topmargin=\"0\" width=\"100%\"></iframe>,\n",
       " <iframe bottommargin=\"0\" frameborder=\"0\" height=\"265\" marginheight=\"0\" name=\"day\" scrolling=\"no\" src=\"/sise/sise_index_day.nhn?code=KOSPI\" title=\"일별시세 영역\" topmargin=\"0\" width=\"100%\"></iframe>,\n",
       " <iframe bottommargin=\"0\" frameborder=\"0\" height=\"305\" marginheight=\"0\" name=\"recent\" scrolling=\"no\" src=\"/template/right_item.nhn?code=KOSPI&amp;width=200\" title=\"최근조회 영역\" topmargin=\"0\" width=\"200\"></iframe>]"
      ]
     },
     "execution_count": 6,
     "metadata": {},
     "output_type": "execute_result"
    }
   ],
   "source": [
    "get_html(main_url_index.format(code='KOSPI')).find_all('iframe')\n",
    "# get_html(main_url_item.format(code='035420')).find_all('iframe')"
   ]
  },
  {
   "cell_type": "markdown",
   "metadata": {},
   "source": [
    "## 1.2. Get iframe url from the main page"
   ]
  },
  {
   "cell_type": "code",
   "execution_count": 7,
   "metadata": {},
   "outputs": [],
   "source": [
    "def get_url(code, page=None):\n",
    "    if code in ['KOSPI', 'KOSDAQ', 'FUT' ,'KPI200']:\n",
    "        main_url = main_url_index\n",
    "        if state == 'day' : attrs = {'title':'일별시세 영역'}\n",
    "        else : attrs = {'title':'시간별시세 영역'}\n",
    "    else:\n",
    "        main_url = main_url_item\n",
    "        if state == 'day' : attrs = {'title':'일별 시세'}\n",
    "        else : attrs = {'title':'주요 시세'}\n",
    "    url = main_url.format(code=code)\n",
    "    \n",
    "    soup = get_html(url)\n",
    "    url = 'https://finance.naver.com' + soup.find('iframe', attrs=attrs)['src']\n",
    "    \n",
    "    if page: return url + '&page={page}'.format(page=page)\n",
    "    else : return url\n",
    "    "
   ]
  },
  {
   "cell_type": "code",
   "execution_count": 8,
   "metadata": {},
   "outputs": [
    {
     "name": "stdout",
     "output_type": "stream",
     "text": [
      "https://finance.naver.com/sise/sise_index_time.nhn?code=KOSPI&thistime=20210113163501\n",
      "https://finance.naver.com/item/sise_time.nhn?code=035420&thistime=20210113161104&page=1\n"
     ]
    }
   ],
   "source": [
    "print(get_url('KOSPI'))\n",
    "print(get_url('035420',1))"
   ]
  },
  {
   "cell_type": "markdown",
   "metadata": {},
   "source": [
    "## 1.3. Find last page"
   ]
  },
  {
   "cell_type": "code",
   "execution_count": 9,
   "metadata": {},
   "outputs": [],
   "source": [
    "def find_last_pg(code):\n",
    "    url = get_url(code)\n",
    "    print(url)\n",
    "    soup = get_html(url)\n",
    "#     print(soup)\n",
    "    el_td_last = soup.find(\"td\", class_=\"pgRR\")\n",
    "    pg_last = el_td_last.a.get('href').rsplit('&page=')[1]\n",
    "    return int(pg_last)"
   ]
  },
  {
   "cell_type": "code",
   "execution_count": 10,
   "metadata": {},
   "outputs": [
    {
     "name": "stdout",
     "output_type": "stream",
     "text": [
      "https://finance.naver.com/sise/sise_index_time.nhn?code=KOSPI&thistime=20210113163501\n",
      "66\n",
      "https://finance.naver.com/item/sise_time.nhn?code=035420&thistime=20210113161104\n",
      "40\n"
     ]
    }
   ],
   "source": [
    "print(find_last_pg('KOSPI'))\n",
    "print(find_last_pg('035420'))"
   ]
  },
  {
   "cell_type": "markdown",
   "metadata": {},
   "source": [
    "## 1.4. Parse stock values from html table"
   ]
  },
  {
   "cell_type": "code",
   "execution_count": 11,
   "metadata": {},
   "outputs": [],
   "source": [
    "def parse_page(code, page):\n",
    "    url = get_url(code, page)\n",
    "    print(url)\n",
    "    \n",
    "    \n",
    "    _soup = get_html(url)\n",
    "    _df = pd.read_html(str(_soup.find(\"table\")), header=0, index_col=0)[0]\n",
    "    _df = _df.dropna()\n",
    "    return _df"
   ]
  },
  {
   "cell_type": "code",
   "execution_count": 12,
   "metadata": {},
   "outputs": [
    {
     "name": "stdout",
     "output_type": "stream",
     "text": [
      "https://finance.naver.com/sise/sise_index_time.nhn?code=KOSPI&thistime=20210113163501&page=1\n"
     ]
    },
    {
     "data": {
      "text/html": [
       "<div>\n",
       "<style scoped>\n",
       "    .dataframe tbody tr th:only-of-type {\n",
       "        vertical-align: middle;\n",
       "    }\n",
       "\n",
       "    .dataframe tbody tr th {\n",
       "        vertical-align: top;\n",
       "    }\n",
       "\n",
       "    .dataframe thead th {\n",
       "        text-align: right;\n",
       "    }\n",
       "</style>\n",
       "<table border=\"1\" class=\"dataframe\">\n",
       "  <thead>\n",
       "    <tr style=\"text-align: right;\">\n",
       "      <th></th>\n",
       "      <th>체결가</th>\n",
       "      <th>전일비</th>\n",
       "      <th>변동량(천주)</th>\n",
       "      <th>거래량(천주)</th>\n",
       "      <th>거래대금(백만)</th>\n",
       "    </tr>\n",
       "    <tr>\n",
       "      <th>체결시각</th>\n",
       "      <th></th>\n",
       "      <th></th>\n",
       "      <th></th>\n",
       "      <th></th>\n",
       "      <th></th>\n",
       "    </tr>\n",
       "  </thead>\n",
       "  <tbody>\n",
       "    <tr>\n",
       "      <th>15:30</th>\n",
       "      <td>3148.29</td>\n",
       "      <td>22.34</td>\n",
       "      <td>20149.0</td>\n",
       "      <td>1555037.0</td>\n",
       "      <td>23964683.0</td>\n",
       "    </tr>\n",
       "    <tr>\n",
       "      <th>15:29</th>\n",
       "      <td>3144.17</td>\n",
       "      <td>18.22</td>\n",
       "      <td>0.0</td>\n",
       "      <td>1534888.0</td>\n",
       "      <td>23262656.0</td>\n",
       "    </tr>\n",
       "    <tr>\n",
       "      <th>15:28</th>\n",
       "      <td>3144.17</td>\n",
       "      <td>18.22</td>\n",
       "      <td>0.0</td>\n",
       "      <td>1534888.0</td>\n",
       "      <td>23262656.0</td>\n",
       "    </tr>\n",
       "    <tr>\n",
       "      <th>15:27</th>\n",
       "      <td>3144.17</td>\n",
       "      <td>18.22</td>\n",
       "      <td>0.0</td>\n",
       "      <td>1534888.0</td>\n",
       "      <td>23262656.0</td>\n",
       "    </tr>\n",
       "    <tr>\n",
       "      <th>15:26</th>\n",
       "      <td>3144.17</td>\n",
       "      <td>18.22</td>\n",
       "      <td>0.0</td>\n",
       "      <td>1534888.0</td>\n",
       "      <td>23262656.0</td>\n",
       "    </tr>\n",
       "    <tr>\n",
       "      <th>15:25</th>\n",
       "      <td>3144.17</td>\n",
       "      <td>18.22</td>\n",
       "      <td>0.0</td>\n",
       "      <td>1534888.0</td>\n",
       "      <td>23262656.0</td>\n",
       "    </tr>\n",
       "  </tbody>\n",
       "</table>\n",
       "</div>"
      ],
      "text/plain": [
       "           체결가    전일비  변동량(천주)    거래량(천주)    거래대금(백만)\n",
       "체결시각                                                 \n",
       "15:30  3148.29  22.34  20149.0  1555037.0  23964683.0\n",
       "15:29  3144.17  18.22      0.0  1534888.0  23262656.0\n",
       "15:28  3144.17  18.22      0.0  1534888.0  23262656.0\n",
       "15:27  3144.17  18.22      0.0  1534888.0  23262656.0\n",
       "15:26  3144.17  18.22      0.0  1534888.0  23262656.0\n",
       "15:25  3144.17  18.22      0.0  1534888.0  23262656.0"
      ]
     },
     "execution_count": 12,
     "metadata": {},
     "output_type": "execute_result"
    }
   ],
   "source": [
    "parse_page('KOSPI', 1)"
   ]
  },
  {
   "cell_type": "code",
   "execution_count": 13,
   "metadata": {},
   "outputs": [
    {
     "name": "stdout",
     "output_type": "stream",
     "text": [
      "https://finance.naver.com/item/sise_time.nhn?code=035420&thistime=20210113161104&page=1\n"
     ]
    },
    {
     "data": {
      "text/html": [
       "<div>\n",
       "<style scoped>\n",
       "    .dataframe tbody tr th:only-of-type {\n",
       "        vertical-align: middle;\n",
       "    }\n",
       "\n",
       "    .dataframe tbody tr th {\n",
       "        vertical-align: top;\n",
       "    }\n",
       "\n",
       "    .dataframe thead th {\n",
       "        text-align: right;\n",
       "    }\n",
       "</style>\n",
       "<table border=\"1\" class=\"dataframe\">\n",
       "  <thead>\n",
       "    <tr style=\"text-align: right;\">\n",
       "      <th></th>\n",
       "      <th>체결가</th>\n",
       "      <th>전일비</th>\n",
       "      <th>매도</th>\n",
       "      <th>매수</th>\n",
       "      <th>거래량</th>\n",
       "      <th>변동량</th>\n",
       "    </tr>\n",
       "    <tr>\n",
       "      <th>체결시각</th>\n",
       "      <th></th>\n",
       "      <th></th>\n",
       "      <th></th>\n",
       "      <th></th>\n",
       "      <th></th>\n",
       "      <th></th>\n",
       "    </tr>\n",
       "  </thead>\n",
       "  <tbody>\n",
       "    <tr>\n",
       "      <th>15:58</th>\n",
       "      <td>314000.0</td>\n",
       "      <td>10000.0</td>\n",
       "      <td>314500.0</td>\n",
       "      <td>314000.0</td>\n",
       "      <td>1836028.0</td>\n",
       "      <td>31.0</td>\n",
       "    </tr>\n",
       "    <tr>\n",
       "      <th>15:57</th>\n",
       "      <td>314000.0</td>\n",
       "      <td>10000.0</td>\n",
       "      <td>314500.0</td>\n",
       "      <td>314000.0</td>\n",
       "      <td>1835997.0</td>\n",
       "      <td>2.0</td>\n",
       "    </tr>\n",
       "    <tr>\n",
       "      <th>15:56</th>\n",
       "      <td>314000.0</td>\n",
       "      <td>10000.0</td>\n",
       "      <td>314500.0</td>\n",
       "      <td>314000.0</td>\n",
       "      <td>1835995.0</td>\n",
       "      <td>23.0</td>\n",
       "    </tr>\n",
       "    <tr>\n",
       "      <th>15:55</th>\n",
       "      <td>314000.0</td>\n",
       "      <td>10000.0</td>\n",
       "      <td>314500.0</td>\n",
       "      <td>314000.0</td>\n",
       "      <td>1835972.0</td>\n",
       "      <td>5.0</td>\n",
       "    </tr>\n",
       "    <tr>\n",
       "      <th>15:54</th>\n",
       "      <td>314000.0</td>\n",
       "      <td>10000.0</td>\n",
       "      <td>314500.0</td>\n",
       "      <td>314000.0</td>\n",
       "      <td>1835967.0</td>\n",
       "      <td>8.0</td>\n",
       "    </tr>\n",
       "    <tr>\n",
       "      <th>15:51</th>\n",
       "      <td>314000.0</td>\n",
       "      <td>10000.0</td>\n",
       "      <td>314500.0</td>\n",
       "      <td>314000.0</td>\n",
       "      <td>1835959.0</td>\n",
       "      <td>11.0</td>\n",
       "    </tr>\n",
       "    <tr>\n",
       "      <th>15:50</th>\n",
       "      <td>314000.0</td>\n",
       "      <td>10000.0</td>\n",
       "      <td>314500.0</td>\n",
       "      <td>314000.0</td>\n",
       "      <td>1835948.0</td>\n",
       "      <td>34.0</td>\n",
       "    </tr>\n",
       "    <tr>\n",
       "      <th>15:49</th>\n",
       "      <td>314000.0</td>\n",
       "      <td>10000.0</td>\n",
       "      <td>314500.0</td>\n",
       "      <td>314000.0</td>\n",
       "      <td>1835914.0</td>\n",
       "      <td>16.0</td>\n",
       "    </tr>\n",
       "    <tr>\n",
       "      <th>15:48</th>\n",
       "      <td>314000.0</td>\n",
       "      <td>10000.0</td>\n",
       "      <td>314500.0</td>\n",
       "      <td>314000.0</td>\n",
       "      <td>1835898.0</td>\n",
       "      <td>6.0</td>\n",
       "    </tr>\n",
       "    <tr>\n",
       "      <th>15:47</th>\n",
       "      <td>314000.0</td>\n",
       "      <td>10000.0</td>\n",
       "      <td>314500.0</td>\n",
       "      <td>314000.0</td>\n",
       "      <td>1835892.0</td>\n",
       "      <td>22.0</td>\n",
       "    </tr>\n",
       "  </tbody>\n",
       "</table>\n",
       "</div>"
      ],
      "text/plain": [
       "            체결가      전일비        매도        매수        거래량   변동량\n",
       "체결시각                                                         \n",
       "15:58  314000.0  10000.0  314500.0  314000.0  1836028.0  31.0\n",
       "15:57  314000.0  10000.0  314500.0  314000.0  1835997.0   2.0\n",
       "15:56  314000.0  10000.0  314500.0  314000.0  1835995.0  23.0\n",
       "15:55  314000.0  10000.0  314500.0  314000.0  1835972.0   5.0\n",
       "15:54  314000.0  10000.0  314500.0  314000.0  1835967.0   8.0\n",
       "15:51  314000.0  10000.0  314500.0  314000.0  1835959.0  11.0\n",
       "15:50  314000.0  10000.0  314500.0  314000.0  1835948.0  34.0\n",
       "15:49  314000.0  10000.0  314500.0  314000.0  1835914.0  16.0\n",
       "15:48  314000.0  10000.0  314500.0  314000.0  1835898.0   6.0\n",
       "15:47  314000.0  10000.0  314500.0  314000.0  1835892.0  22.0"
      ]
     },
     "execution_count": 13,
     "metadata": {},
     "output_type": "execute_result"
    }
   ],
   "source": [
    "parse_page('035420', 1)"
   ]
  },
  {
   "cell_type": "code",
   "execution_count": null,
   "metadata": {},
   "outputs": [],
   "source": []
  },
  {
   "cell_type": "code",
   "execution_count": null,
   "metadata": {},
   "outputs": [],
   "source": []
  },
  {
   "cell_type": "code",
   "execution_count": null,
   "metadata": {},
   "outputs": [],
   "source": []
  },
  {
   "cell_type": "markdown",
   "metadata": {},
   "source": [
    "# 2. Main\n",
    "\n",
    "- state = 'time' : 당일의 시간별 시세\n",
    "- state = 'day' : 일별 시세"
   ]
  },
  {
   "cell_type": "code",
   "execution_count": 14,
   "metadata": {},
   "outputs": [
    {
     "name": "stdout",
     "output_type": "stream",
     "text": [
      "day 2020.06.10 - 2021.01.13\n"
     ]
    }
   ],
   "source": [
    "### hyper-params\n",
    "\n",
    "codes = ['035420']\n",
    "# codes = ['KOSPI', '207940', '035420', '006400'] # 코스피, 삼성바이오로지스, NAVER, 삼성SDI\n",
    "\n",
    "\n",
    "state = 'day' # 'day' or 'time'\n",
    "str_datefrom = datetime.datetime.strftime(datetime.datetime(year=2020, month=6, day=10), '%Y.%m.%d')\n",
    "str_dateto = datetime.datetime.strftime(datetime.datetime.today(), '%Y.%m.%d')\n",
    "print(state, str_datefrom,'-', str_dateto,)\n",
    "\n",
    "# state = 'time' # 'day' or 'time'\n",
    "# str_datefrom = '12:00'\n",
    "# str_dateto = '14:00'\n",
    "# print(state, str_datefrom,'-', str_dateto, )"
   ]
  },
  {
   "cell_type": "code",
   "execution_count": 15,
   "metadata": {},
   "outputs": [
    {
     "name": "stdout",
     "output_type": "stream",
     "text": [
      "https://finance.naver.com/item/sise_day.nhn?code=035420\n",
      "https://finance.naver.com/item/sise_day.nhn?code=035420&page=1\n",
      "https://finance.naver.com/item/sise_day.nhn?code=035420&page=2\n",
      "https://finance.naver.com/item/sise_day.nhn?code=035420&page=3\n",
      "https://finance.naver.com/item/sise_day.nhn?code=035420&page=4\n",
      "https://finance.naver.com/item/sise_day.nhn?code=035420&page=5\n",
      "https://finance.naver.com/item/sise_day.nhn?code=035420&page=6\n",
      "https://finance.naver.com/item/sise_day.nhn?code=035420&page=7\n",
      "https://finance.naver.com/item/sise_day.nhn?code=035420&page=8\n",
      "https://finance.naver.com/item/sise_day.nhn?code=035420&page=9\n",
      "https://finance.naver.com/item/sise_day.nhn?code=035420&page=10\n",
      "https://finance.naver.com/item/sise_day.nhn?code=035420&page=11\n",
      "https://finance.naver.com/item/sise_day.nhn?code=035420&page=12\n",
      "https://finance.naver.com/item/sise_day.nhn?code=035420&page=13\n",
      "https://finance.naver.com/item/sise_day.nhn?code=035420&page=14\n",
      "https://finance.naver.com/item/sise_day.nhn?code=035420&page=15\n",
      "https://finance.naver.com/item/sise_day.nhn?code=035420&page=16\n",
      "035420 done\n"
     ]
    }
   ],
   "source": [
    "crawling_time = datetime.datetime.strftime(datetime.datetime.today(), '%Y%m%d-%H%M%S')\n",
    "for code in codes:\n",
    "\n",
    "    pg_last = find_last_pg(code)\n",
    "    \n",
    "    df = None\n",
    "    for page in range(1, pg_last+1):\n",
    "        _df = parse_page(code, page)\n",
    "        \n",
    "        if _df.index[-1] > str_dateto : continue\n",
    "        if _df.index[0] < str_datefrom : break\n",
    "        \n",
    "        _df_filtered = _df[(_df.index >= str_datefrom) & (_df.index <= str_dateto)]\n",
    "        if df is None:\n",
    "            df = _df_filtered\n",
    "        else:\n",
    "            df = pd.concat([df, _df_filtered])\n",
    "\n",
    "    df = df.sort_index()\n",
    "    path = os.path.join(path_dir, '{code}_{date_from}_{date_to}_{crawl}.csv'.format(\n",
    "                            code=code, date_from=str_datefrom, date_to=str_dateto, crawl=crawling_time))\n",
    "    df.to_csv(path,encoding='utf-8')\n",
    "    print(code, 'done')"
   ]
  },
  {
   "cell_type": "code",
   "execution_count": 16,
   "metadata": {},
   "outputs": [
    {
     "data": {
      "text/html": [
       "<div>\n",
       "<style scoped>\n",
       "    .dataframe tbody tr th:only-of-type {\n",
       "        vertical-align: middle;\n",
       "    }\n",
       "\n",
       "    .dataframe tbody tr th {\n",
       "        vertical-align: top;\n",
       "    }\n",
       "\n",
       "    .dataframe thead th {\n",
       "        text-align: right;\n",
       "    }\n",
       "</style>\n",
       "<table border=\"1\" class=\"dataframe\">\n",
       "  <thead>\n",
       "    <tr style=\"text-align: right;\">\n",
       "      <th></th>\n",
       "      <th>종가</th>\n",
       "      <th>전일비</th>\n",
       "      <th>시가</th>\n",
       "      <th>고가</th>\n",
       "      <th>저가</th>\n",
       "      <th>거래량</th>\n",
       "    </tr>\n",
       "    <tr>\n",
       "      <th>날짜</th>\n",
       "      <th></th>\n",
       "      <th></th>\n",
       "      <th></th>\n",
       "      <th></th>\n",
       "      <th></th>\n",
       "      <th></th>\n",
       "    </tr>\n",
       "  </thead>\n",
       "  <tbody>\n",
       "    <tr>\n",
       "      <th>2020.06.10</th>\n",
       "      <td>244000.0</td>\n",
       "      <td>6500.0</td>\n",
       "      <td>241000.0</td>\n",
       "      <td>247500.0</td>\n",
       "      <td>240000.0</td>\n",
       "      <td>1431071.0</td>\n",
       "    </tr>\n",
       "    <tr>\n",
       "      <th>2020.06.11</th>\n",
       "      <td>240500.0</td>\n",
       "      <td>3500.0</td>\n",
       "      <td>244000.0</td>\n",
       "      <td>249000.0</td>\n",
       "      <td>239000.0</td>\n",
       "      <td>1423978.0</td>\n",
       "    </tr>\n",
       "    <tr>\n",
       "      <th>2020.06.12</th>\n",
       "      <td>242000.0</td>\n",
       "      <td>1500.0</td>\n",
       "      <td>229000.0</td>\n",
       "      <td>242500.0</td>\n",
       "      <td>228500.0</td>\n",
       "      <td>1318334.0</td>\n",
       "    </tr>\n",
       "    <tr>\n",
       "      <th>2020.06.15</th>\n",
       "      <td>231500.0</td>\n",
       "      <td>10500.0</td>\n",
       "      <td>240000.0</td>\n",
       "      <td>244500.0</td>\n",
       "      <td>230500.0</td>\n",
       "      <td>1311773.0</td>\n",
       "    </tr>\n",
       "    <tr>\n",
       "      <th>2020.06.16</th>\n",
       "      <td>243500.0</td>\n",
       "      <td>12000.0</td>\n",
       "      <td>239000.0</td>\n",
       "      <td>243500.0</td>\n",
       "      <td>236000.0</td>\n",
       "      <td>1155474.0</td>\n",
       "    </tr>\n",
       "    <tr>\n",
       "      <th>...</th>\n",
       "      <td>...</td>\n",
       "      <td>...</td>\n",
       "      <td>...</td>\n",
       "      <td>...</td>\n",
       "      <td>...</td>\n",
       "      <td>...</td>\n",
       "    </tr>\n",
       "    <tr>\n",
       "      <th>2021.01.07</th>\n",
       "      <td>289500.0</td>\n",
       "      <td>500.0</td>\n",
       "      <td>288500.0</td>\n",
       "      <td>292000.0</td>\n",
       "      <td>286500.0</td>\n",
       "      <td>1155734.0</td>\n",
       "    </tr>\n",
       "    <tr>\n",
       "      <th>2021.01.08</th>\n",
       "      <td>312000.0</td>\n",
       "      <td>22500.0</td>\n",
       "      <td>293500.0</td>\n",
       "      <td>312000.0</td>\n",
       "      <td>290000.0</td>\n",
       "      <td>3175396.0</td>\n",
       "    </tr>\n",
       "    <tr>\n",
       "      <th>2021.01.11</th>\n",
       "      <td>309000.0</td>\n",
       "      <td>3000.0</td>\n",
       "      <td>320000.0</td>\n",
       "      <td>323500.0</td>\n",
       "      <td>301000.0</td>\n",
       "      <td>2765169.0</td>\n",
       "    </tr>\n",
       "    <tr>\n",
       "      <th>2021.01.12</th>\n",
       "      <td>304000.0</td>\n",
       "      <td>5000.0</td>\n",
       "      <td>305000.0</td>\n",
       "      <td>308500.0</td>\n",
       "      <td>292500.0</td>\n",
       "      <td>1573299.0</td>\n",
       "    </tr>\n",
       "    <tr>\n",
       "      <th>2021.01.13</th>\n",
       "      <td>314000.0</td>\n",
       "      <td>10000.0</td>\n",
       "      <td>306000.0</td>\n",
       "      <td>317500.0</td>\n",
       "      <td>304000.0</td>\n",
       "      <td>1836035.0</td>\n",
       "    </tr>\n",
       "  </tbody>\n",
       "</table>\n",
       "<p>148 rows × 6 columns</p>\n",
       "</div>"
      ],
      "text/plain": [
       "                  종가      전일비        시가        고가        저가        거래량\n",
       "날짜                                                                    \n",
       "2020.06.10  244000.0   6500.0  241000.0  247500.0  240000.0  1431071.0\n",
       "2020.06.11  240500.0   3500.0  244000.0  249000.0  239000.0  1423978.0\n",
       "2020.06.12  242000.0   1500.0  229000.0  242500.0  228500.0  1318334.0\n",
       "2020.06.15  231500.0  10500.0  240000.0  244500.0  230500.0  1311773.0\n",
       "2020.06.16  243500.0  12000.0  239000.0  243500.0  236000.0  1155474.0\n",
       "...              ...      ...       ...       ...       ...        ...\n",
       "2021.01.07  289500.0    500.0  288500.0  292000.0  286500.0  1155734.0\n",
       "2021.01.08  312000.0  22500.0  293500.0  312000.0  290000.0  3175396.0\n",
       "2021.01.11  309000.0   3000.0  320000.0  323500.0  301000.0  2765169.0\n",
       "2021.01.12  304000.0   5000.0  305000.0  308500.0  292500.0  1573299.0\n",
       "2021.01.13  314000.0  10000.0  306000.0  317500.0  304000.0  1836035.0\n",
       "\n",
       "[148 rows x 6 columns]"
      ]
     },
     "execution_count": 16,
     "metadata": {},
     "output_type": "execute_result"
    }
   ],
   "source": [
    "df"
   ]
  },
  {
   "cell_type": "code",
   "execution_count": null,
   "metadata": {},
   "outputs": [],
   "source": []
  },
  {
   "cell_type": "code",
   "execution_count": null,
   "metadata": {},
   "outputs": [],
   "source": []
  },
  {
   "cell_type": "code",
   "execution_count": null,
   "metadata": {},
   "outputs": [],
   "source": []
  }
 ],
 "metadata": {
  "kernelspec": {
   "display_name": "Python 3",
   "language": "python",
   "name": "python3"
  },
  "language_info": {
   "codemirror_mode": {
    "name": "ipython",
    "version": 3
   },
   "file_extension": ".py",
   "mimetype": "text/x-python",
   "name": "python",
   "nbconvert_exporter": "python",
   "pygments_lexer": "ipython3",
   "version": "3.8.5"
  }
 },
 "nbformat": 4,
 "nbformat_minor": 2
}
